{
 "cells": [
  {
   "cell_type": "code",
   "execution_count": null,
   "metadata": {},
   "outputs": [],
   "source": []
  }
 ],
 "metadata": {
  "kernelspec": {
   "display_name": "Python 3.10.6 ('OhmsEnv')",
   "language": "python",
   "name": "python3"
  },
  "language_info": {
   "name": "python",
   "version": "3.10.6"
  },
  "orig_nbformat": 4,
  "vscode": {
   "interpreter": {
    "hash": "94176ea68b031c7d037bbd7adb4c3aa3eae8992840c267c988bed96410dc8eb6"
   }
  }
 },
 "nbformat": 4,
 "nbformat_minor": 2
}
